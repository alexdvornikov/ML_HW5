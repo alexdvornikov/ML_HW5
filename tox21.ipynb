{
  "nbformat": 4,
  "nbformat_minor": 0,
  "metadata": {
    "colab": {
      "name": "tox21_example.ipynb",
      "provenance": [],
      "collapsed_sections": [],
      "authorship_tag": "ABX9TyOb2/xrC4WzVgAJ6CF1z2Up",
      "include_colab_link": true
    },
    "kernelspec": {
      "name": "python3",
      "display_name": "Python 3"
    }
  },
  "cells": [
    {
      "cell_type": "markdown",
      "metadata": {
        "id": "view-in-github",
        "colab_type": "text"
      },
      "source": [
        "<a href=\"https://colab.research.google.com/github/ics435/hw5_neural_network/blob/master/tox21.ipynb\" target=\"_parent\"><img src=\"https://colab.research.google.com/assets/colab-badge.svg\" alt=\"Open In Colab\"/></a>"
      ]
    },
    {
      "cell_type": "code",
      "metadata": {
        "id": "uOxGZHeb5yHc",
        "colab_type": "code",
        "colab": {}
      },
      "source": [
        "import numpy as np\n",
        "import pandas as pd\n",
        "import sklearn\n",
        "import matplotlib.pyplot as plt"
      ],
      "execution_count": 0,
      "outputs": []
    },
    {
      "cell_type": "code",
      "metadata": {
        "id": "W8lhzrRx3Zxe",
        "colab_type": "code",
        "colab": {
          "base_uri": "https://localhost:8080/",
          "height": 68
        },
        "outputId": "1770086b-c592-4e37-e62a-117f7002d6aa"
      },
      "source": [
        "# Download Tox21 data set.\n",
        "!curl -LO http://bioinf.jku.at/research/DeepTox/tox21_dense_train.csv.gz\n",
        "!gunzip tox21_dense_train.csv.gz \n",
        "!curl -LO http://bioinf.jku.at/research/DeepTox/tox21_labels_train.csv.gz\n",
        "!gunzip tox21_labels_train.csv.gz\n",
        "!curl -LO http://bioinf.jku.at/research/DeepTox/tox21_dense_test.csv.gz\n",
        "!curl -LO http://bioinf.jku.at/research/DeepTox/tox21_labels_test.csv.gz\n",
        "!gunzip tox21_dense_test.csv.gz\n",
        "!gunzip tox21_labels_test.csv.gz"
      ],
      "execution_count": 1,
      "outputs": [
        {
          "output_type": "stream",
          "text": [
            "  % Total    % Received % Xferd  Average Speed   Time    Time     Time  Current\n",
            "                                 Dload  Upload   Total   Spent    Left  Speed\n",
            "100 18.5M  100 18.5M    0     0  1370k      0  0:00:13  0:00:13 --:--:-- 3350k\n"
          ],
          "name": "stdout"
        }
      ]
    },
    {
      "cell_type": "code",
      "metadata": {
        "id": "HxGHC4dk4PZk",
        "colab_type": "code",
        "colab": {
          "base_uri": "https://localhost:8080/",
          "height": 34
        },
        "outputId": "b538c2fd-e7a8-44c7-a853-43ef443dbc5e"
      },
      "source": [
        "from sklearn.preprocessing import StandardScaler\n",
        "scaler = StandardScaler()\n",
        "\n",
        "x_tr = pd.read_csv('tox21_dense_train.csv')\n",
        "x_tr = np.array(x_tr.iloc[:,1:])\n",
        "scaler.fit(x_tr)\n",
        "x_tr = scaler.transform(x_tr)\n",
        "\n",
        "y_tr = pd.read_csv('tox21_labels_train.csv')\n",
        "y_tr = y_tr.fillna(0)\n",
        "y_tr = np.array(y_tr.loc[:,'NR.AR']) # Each Column is a type of toxicity.\n",
        "\n",
        "x_te = pd.read_csv('tox21_dense_test.csv')\n",
        "x_te = np.array(x_te.iloc[:,1:])\n",
        "x_te = scaler.transform(x_te) # Must use exact same preprocessing as train set.\n",
        "\n",
        "y_te = pd.read_csv('tox21_labels_test.csv')\n",
        "y_te = y_te.fillna(0)\n",
        "y_te = np.array(y_te.loc[:,'NR.AR']) \n",
        "\n",
        "print(x_tr.shape, y_tr.shape, x_te.shape, y_te.shape)\n"
      ],
      "execution_count": 83,
      "outputs": [
        {
          "output_type": "stream",
          "text": [
            "(12060, 801) (12060,) (647, 801) (647,)\n"
          ],
          "name": "stdout"
        }
      ]
    },
    {
      "cell_type": "code",
      "metadata": {
        "id": "mQkMzntn6md-",
        "colab_type": "code",
        "colab": {
          "base_uri": "https://localhost:8080/",
          "height": 51
        },
        "outputId": "1a589cb5-da0a-48c4-dd84-c6dc9a38098f"
      },
      "source": [
        "from sklearn.tree import DecisionTreeClassifier\n",
        "from sklearn.neural_network import MLPClassifier\n",
        "from sklearn.model_selection import cross_val_score\n",
        "from sklearn.metrics import roc_auc_score\n",
        "\n",
        "model = DecisionTreeClassifier(random_state=0, max_depth=10)\n",
        "#model = MLPClassifier(hidden_layer_sizes=(100, 100), random_state=1, max_iter=100)\n",
        "\n",
        "# Cross validation.\n",
        "cv_auc = cross_val_score(model, x_tr, y_tr, cv=3, scoring='roc_auc')\n",
        "print('ROC AUC on cross-validation:', cv_auc)\n",
        "\n",
        "# Evaluate on test set.\n",
        "model.fit(x_tr, y_tr)\n",
        "p_te = model.predict_proba(x_te)\n",
        "auc_te = roc_auc_score(y_te, p_te[:, 1])\n",
        "print(\"Test set AUC: %3.5f\" % (auc_te))\n"
      ],
      "execution_count": 86,
      "outputs": [
        {
          "output_type": "stream",
          "text": [
            "ROC AUC on cross-validation: [0.80800488 0.78119279 0.78204189]\n",
            "Test set AUC: 0.73491\n"
          ],
          "name": "stdout"
        }
      ]
    }
  ]
}